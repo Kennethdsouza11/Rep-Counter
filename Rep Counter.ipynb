{
 "cells": [
  {
   "cell_type": "code",
   "execution_count": 10,
   "id": "8ea898d5",
   "metadata": {},
   "outputs": [
    {
     "name": "stdout",
     "output_type": "stream",
     "text": [
      "Requirement already satisfied: mediapipe in c:\\anaconda\\lib\\site-packages (0.10.9)\n",
      "Requirement already satisfied: opencv-python in c:\\anaconda\\lib\\site-packages (4.9.0.80)\n",
      "Requirement already satisfied: absl-py in c:\\users\\kenneth\\appdata\\roaming\\python\\python311\\site-packages (from mediapipe) (2.0.0)\n",
      "Requirement already satisfied: attrs>=19.1.0 in c:\\anaconda\\lib\\site-packages (from mediapipe) (22.1.0)\n",
      "Requirement already satisfied: flatbuffers>=2.0 in c:\\users\\kenneth\\appdata\\roaming\\python\\python311\\site-packages (from mediapipe) (23.5.26)\n",
      "Requirement already satisfied: matplotlib in c:\\users\\kenneth\\appdata\\roaming\\python\\python311\\site-packages (from mediapipe) (3.8.2)\n",
      "Requirement already satisfied: numpy in c:\\users\\kenneth\\appdata\\roaming\\python\\python311\\site-packages (from mediapipe) (1.26.2)\n",
      "Requirement already satisfied: opencv-contrib-python in c:\\anaconda\\lib\\site-packages (from mediapipe) (4.9.0.80)\n",
      "Requirement already satisfied: protobuf<4,>=3.11 in c:\\anaconda\\lib\\site-packages (from mediapipe) (3.20.3)\n",
      "Requirement already satisfied: sounddevice>=0.4.4 in c:\\anaconda\\lib\\site-packages (from mediapipe) (0.4.6)\n",
      "Requirement already satisfied: CFFI>=1.0 in c:\\anaconda\\lib\\site-packages (from sounddevice>=0.4.4->mediapipe) (1.15.1)\n",
      "Requirement already satisfied: contourpy>=1.0.1 in c:\\users\\kenneth\\appdata\\roaming\\python\\python311\\site-packages (from matplotlib->mediapipe) (1.2.0)\n",
      "Requirement already satisfied: cycler>=0.10 in c:\\users\\kenneth\\appdata\\roaming\\python\\python311\\site-packages (from matplotlib->mediapipe) (0.12.1)\n",
      "Requirement already satisfied: fonttools>=4.22.0 in c:\\users\\kenneth\\appdata\\roaming\\python\\python311\\site-packages (from matplotlib->mediapipe) (4.47.0)\n",
      "Requirement already satisfied: kiwisolver>=1.3.1 in c:\\users\\kenneth\\appdata\\roaming\\python\\python311\\site-packages (from matplotlib->mediapipe) (1.4.5)\n",
      "Requirement already satisfied: packaging>=20.0 in c:\\users\\kenneth\\appdata\\roaming\\python\\python311\\site-packages (from matplotlib->mediapipe) (23.2)\n",
      "Requirement already satisfied: pillow>=8 in c:\\users\\kenneth\\appdata\\roaming\\python\\python311\\site-packages (from matplotlib->mediapipe) (10.1.0)\n",
      "Requirement already satisfied: pyparsing>=2.3.1 in c:\\users\\kenneth\\appdata\\roaming\\python\\python311\\site-packages (from matplotlib->mediapipe) (3.1.1)\n",
      "Requirement already satisfied: python-dateutil>=2.7 in c:\\users\\kenneth\\appdata\\roaming\\python\\python311\\site-packages (from matplotlib->mediapipe) (2.8.2)\n",
      "Requirement already satisfied: pycparser in c:\\anaconda\\lib\\site-packages (from CFFI>=1.0->sounddevice>=0.4.4->mediapipe) (2.21)\n",
      "Requirement already satisfied: six>=1.5 in c:\\users\\kenneth\\appdata\\roaming\\python\\python311\\site-packages (from python-dateutil>=2.7->matplotlib->mediapipe) (1.16.0)\n"
     ]
    }
   ],
   "source": [
    "#installing mediapipe and opencv\n",
    "!pip install mediapipe opencv-python"
   ]
  },
  {
   "cell_type": "code",
   "execution_count": 11,
   "id": "375fde86",
   "metadata": {},
   "outputs": [],
   "source": [
    "import cv2\n",
    "import mediapipe as mp\n",
    "import numpy as np\n",
    "mp_drawing = mp.solutions.drawing_utils #used to draw bounding box or landmarks or other visual annotations on the input images\n",
    "mp_pose = mp.solutions.pose #importing the pose estimation model from mediapipe"
   ]
  },
  {
   "cell_type": "code",
   "execution_count": 4,
   "id": "fca0625c",
   "metadata": {},
   "outputs": [],
   "source": [
    "#Video Feed\n",
    "cap = cv2.VideoCapture(0)\n",
    "while cap.isOpened():\n",
    "    ret, frame = cap.read() #returns two value one is the return boolean value, tells if its has read a frame or not and the other is the frame itself, its the numpy array of the image being captured\n",
    "    cv2.imshow('Mediapipe Feed',frame) #shows the pop up window with the live feed\n",
    "    \n",
    "    if cv2.waitKey(10) & 0xFF == ord('q'): #This function waits for a key event to occur. The argument 10 specifies the time in milliseconds that the program should wait for a key event. If a key is pressed within this time, the function returns the ASCII value of the key; otherwise, it returns -1..This is a bitwise AND operation with 0xFF (hexadecimal representation of 255). It is often used to extract the last 8 bits (one byte) of the result. ord function converts the key pressed into ASCII value\n",
    "        break\n",
    "cap.release()\n",
    "cv2.destroyAllWindows()"
   ]
  },
  {
   "cell_type": "markdown",
   "id": "1bf37b86",
   "metadata": {},
   "source": [
    "Make Detection"
   ]
  },
  {
   "cell_type": "code",
   "execution_count": 17,
   "id": "9c15b8a6",
   "metadata": {},
   "outputs": [],
   "source": [
    "cap = cv2.VideoCapture(0)\n",
    "#start mediapipe instance\n",
    "with mp_pose.Pose(min_detection_confidence=0.5, min_tracking_confidence=0.5) as pose: #mp_pose.Pose is the model from MediaPipe\n",
    "    while cap.isOpened():\n",
    "        ret, frame = cap.read() #returns two value one is the return boolean value, tells if its has read a frame or not and the other is the frame itself, its the numpy array of the image being captured\n",
    "        \n",
    "        #Recolor image to RGB\n",
    "        image = cv2.cvtColor(frame, cv2.COLOR_BGR2RGB)\n",
    "        image.flags.writeable = False #the numpy array of the image is read-only and it cannot be modfied or edited\n",
    "        \n",
    "        #make detection\n",
    "        results = pose.process(image) #using the pose model to process and get the detections back and storing those detection in the variable named results.\n",
    "        \n",
    "        #Recoloring the back to BGR\n",
    "        image.flags.writeable = True #the numpy array of the image is read and write only and thus it can be modified or edited\n",
    "        image = cv2.cvtColor(image, cv2.COLOR_RGB2BGR)\n",
    "        \n",
    "        #rendering detections\n",
    "        mp_drawing.draw_landmarks(image, results.pose_landmarks, mp_pose.POSE_CONNECTIONS,\n",
    "                                 mp_drawing.DrawingSpec(color = (245,117,66),thickness=2, circle_radius=2),\n",
    "                                 mp_drawing.DrawingSpec(color = (245,117,230),thickness=2, circle_radius=2))\n",
    "        \n",
    "        cv2.imshow('Mediapipe Feed',image) #earlier we used frame now we used image because we want to see the image that has the different landmarks drawn.\n",
    "        \n",
    "        if cv2.waitKey(10) & 0xFF == ord('q'): #This function waits for a key event to occur. The argument 10 specifies the time in milliseconds that the program should wait for a key event. If a key is pressed within this time, the function returns the ASCII value of the key; otherwise, it returns -1..This is a bitwise AND operation with 0xFF (hexadecimal representation of 255). It is often used to extract the last 8 bits (one byte) of the result. ord function converts the key pressed into ASCII value\n",
    "            break\n",
    "    \n",
    "cap.release()\n",
    "cv2.destroyAllWindows()"
   ]
  },
  {
   "cell_type": "code",
   "execution_count": 18,
   "id": "1fe0ce17",
   "metadata": {},
   "outputs": [
    {
     "name": "stdout",
     "output_type": "stream",
     "text": [
      "landmark {\n",
      "  x: 0.61629933\n",
      "  y: 0.51965356\n",
      "  z: -0.8021492\n",
      "  visibility: 0.99987704\n",
      "}\n",
      "landmark {\n",
      "  x: 0.63616407\n",
      "  y: 0.45418915\n",
      "  z: -0.75572944\n",
      "  visibility: 0.9997538\n",
      "}\n",
      "landmark {\n",
      "  x: 0.6523702\n",
      "  y: 0.4564657\n",
      "  z: -0.75520504\n",
      "  visibility: 0.99976796\n",
      "}\n",
      "landmark {\n",
      "  x: 0.66810495\n",
      "  y: 0.4589601\n",
      "  z: -0.75526166\n",
      "  visibility: 0.9997268\n",
      "}\n",
      "landmark {\n",
      "  x: 0.58734643\n",
      "  y: 0.44942886\n",
      "  z: -0.77346665\n",
      "  visibility: 0.99981034\n",
      "}\n",
      "landmark {\n",
      "  x: 0.56807244\n",
      "  y: 0.4481165\n",
      "  z: -0.772575\n",
      "  visibility: 0.99983335\n",
      "}\n",
      "landmark {\n",
      "  x: 0.54805976\n",
      "  y: 0.44781765\n",
      "  z: -0.77259886\n",
      "  visibility: 0.99981725\n",
      "}\n",
      "landmark {\n",
      "  x: 0.684228\n",
      "  y: 0.48636267\n",
      "  z: -0.4289682\n",
      "  visibility: 0.99969107\n",
      "}\n",
      "landmark {\n",
      "  x: 0.50320876\n",
      "  y: 0.47374454\n",
      "  z: -0.4949761\n",
      "  visibility: 0.99987257\n",
      "}\n",
      "landmark {\n",
      "  x: 0.6340928\n",
      "  y: 0.5891292\n",
      "  z: -0.6768555\n",
      "  visibility: 0.99985915\n",
      "}\n",
      "landmark {\n",
      "  x: 0.5771039\n",
      "  y: 0.5878638\n",
      "  z: -0.69496197\n",
      "  visibility: 0.9999089\n",
      "}\n",
      "landmark {\n",
      "  x: 0.7765604\n",
      "  y: 0.8420516\n",
      "  z: -0.2302728\n",
      "  visibility: 0.9990116\n",
      "}\n",
      "landmark {\n",
      "  x: 0.34262863\n",
      "  y: 0.79376686\n",
      "  z: -0.3668304\n",
      "  visibility: 0.9995004\n",
      "}\n",
      "landmark {\n",
      "  x: 0.854125\n",
      "  y: 1.2068218\n",
      "  z: -0.025873462\n",
      "  visibility: 0.15605927\n",
      "}\n",
      "landmark {\n",
      "  x: 0.2130496\n",
      "  y: 1.2078799\n",
      "  z: -0.2383031\n",
      "  visibility: 0.33293763\n",
      "}\n",
      "landmark {\n",
      "  x: 0.8556355\n",
      "  y: 1.5366668\n",
      "  z: -0.1110255\n",
      "  visibility: 0.026582003\n",
      "}\n",
      "landmark {\n",
      "  x: 0.19385178\n",
      "  y: 1.5000308\n",
      "  z: -0.44764805\n",
      "  visibility: 0.071299635\n",
      "}\n",
      "landmark {\n",
      "  x: 0.88353693\n",
      "  y: 1.6331773\n",
      "  z: -0.16487475\n",
      "  visibility: 0.037547506\n",
      "}\n",
      "landmark {\n",
      "  x: 0.15757436\n",
      "  y: 1.5886141\n",
      "  z: -0.51709\n",
      "  visibility: 0.08393109\n",
      "}\n",
      "landmark {\n",
      "  x: 0.8475202\n",
      "  y: 1.640938\n",
      "  z: -0.2167634\n",
      "  visibility: 0.06157496\n",
      "}\n",
      "landmark {\n",
      "  x: 0.1944917\n",
      "  y: 1.5891018\n",
      "  z: -0.60040045\n",
      "  visibility: 0.12459348\n",
      "}\n",
      "landmark {\n",
      "  x: 0.8257488\n",
      "  y: 1.604713\n",
      "  z: -0.14728466\n",
      "  visibility: 0.06114964\n",
      "}\n",
      "landmark {\n",
      "  x: 0.21823764\n",
      "  y: 1.5544759\n",
      "  z: -0.49317962\n",
      "  visibility: 0.119481094\n",
      "}\n",
      "landmark {\n",
      "  x: 0.67100656\n",
      "  y: 1.5721741\n",
      "  z: -0.020341206\n",
      "  visibility: 0.0006816054\n",
      "}\n",
      "landmark {\n",
      "  x: 0.38446528\n",
      "  y: 1.5593032\n",
      "  z: 0.025020486\n",
      "  visibility: 0.00063651917\n",
      "}\n",
      "landmark {\n",
      "  x: 0.6312522\n",
      "  y: 2.1930435\n",
      "  z: -0.012494823\n",
      "  visibility: 0.00037296573\n",
      "}\n",
      "landmark {\n",
      "  x: 0.3755696\n",
      "  y: 2.188502\n",
      "  z: 0.08061496\n",
      "  visibility: 0.00014740885\n",
      "}\n",
      "landmark {\n",
      "  x: 0.6105927\n",
      "  y: 2.7638688\n",
      "  z: 0.56685036\n",
      "  visibility: 6.345139e-05\n",
      "}\n",
      "landmark {\n",
      "  x: 0.36320418\n",
      "  y: 2.7538178\n",
      "  z: 0.5248032\n",
      "  visibility: 6.4319443e-06\n",
      "}\n",
      "landmark {\n",
      "  x: 0.60842645\n",
      "  y: 2.849562\n",
      "  z: 0.59309727\n",
      "  visibility: 6.0661474e-05\n",
      "}\n",
      "landmark {\n",
      "  x: 0.35456926\n",
      "  y: 2.8440812\n",
      "  z: 0.552132\n",
      "  visibility: 1.4824141e-05\n",
      "}\n",
      "landmark {\n",
      "  x: 0.5812595\n",
      "  y: 2.9378054\n",
      "  z: 0.07358367\n",
      "  visibility: 0.00012424978\n",
      "}\n",
      "landmark {\n",
      "  x: 0.39272147\n",
      "  y: 2.919605\n",
      "  z: -0.045078292\n",
      "  visibility: 3.494816e-05\n",
      "}\n",
      "\n"
     ]
    }
   ],
   "source": [
    "print(results.pose_landmarks)\n"
   ]
  },
  {
   "cell_type": "code",
   "execution_count": 19,
   "id": "ef8772d7",
   "metadata": {},
   "outputs": [
    {
     "name": "stdout",
     "output_type": "stream",
     "text": [
      "frozenset({(15, 21), (16, 20), (18, 20), (3, 7), (14, 16), (23, 25), (28, 30), (11, 23), (27, 31), (6, 8), (15, 17), (24, 26), (16, 22), (4, 5), (5, 6), (29, 31), (12, 24), (23, 24), (0, 1), (9, 10), (1, 2), (0, 4), (11, 13), (30, 32), (28, 32), (15, 19), (16, 18), (25, 27), (26, 28), (12, 14), (17, 19), (2, 3), (11, 12), (27, 29), (13, 15)})\n"
     ]
    }
   ],
   "source": [
    "print(mp_pose.POSE_CONNECTIONS)"
   ]
  },
  {
   "cell_type": "code",
   "execution_count": 20,
   "id": "fcde6f13",
   "metadata": {},
   "outputs": [],
   "source": [
    "mp_drawing.draw_landmarks??"
   ]
  },
  {
   "cell_type": "code",
   "execution_count": 21,
   "id": "312c3625",
   "metadata": {},
   "outputs": [],
   "source": [
    "mp_drawing.DrawingSpec??"
   ]
  },
  {
   "cell_type": "code",
   "execution_count": null,
   "id": "6fb2b2a0",
   "metadata": {},
   "outputs": [],
   "source": [
    "cap = cv2.VideoCapture(0)\n",
    "#start mediapipe instance\n",
    "with mp_pose.Pose(min_detection_confidence=0.5, min_tracking_confidence=0.5) as pose: #mp_pose.Pose is the model from MediaPipe\n",
    "    while cap.isOpened():\n",
    "        ret, frame = cap.read() #returns two value one is the return boolean value, tells if its has read a frame or not and the other is the frame itself, its the numpy array of the image being captured\n",
    "        \n",
    "        #Recolor image to RGB\n",
    "        image = cv2.cvtColor(frame, cv2.COLOR_BGR2RGB)\n",
    "        image.flags.writeable = False #the numpy array of the image is read-only and it cannot be modfied or edited\n",
    "        \n",
    "        #make detection\n",
    "        results = pose.process(image) #using the pose model to process and get the detections back and storing those detection in the variable named results.\n",
    "        \n",
    "        #Recoloring the back to BGR\n",
    "        image.flags.writeable = True #the numpy array of the image is read and write only and thus it can be modified or edited\n",
    "        image = cv2.cvtColor(image, cv2.COLOR_RGB2BGR)\n",
    "        \n",
    "        #extract landmarks\n",
    "        try:\n",
    "            landmarks = results.pose_landmarks.landmark\n",
    "            print(landmarks)\n",
    "        except:\n",
    "            pass\n",
    "        \n",
    "        #rendering detections\n",
    "        mp_drawing.draw_landmarks(image, results.pose_landmarks, mp_pose.POSE_CONNECTIONS,\n",
    "                                 mp_drawing.DrawingSpec(color = (245,117,66),thickness=2, circle_radius=2),\n",
    "                                 mp_drawing.DrawingSpec(color = (245,117,230),thickness=2, circle_radius=2))\n",
    "        \n",
    "        cv2.imshow('Mediapipe Feed',image) #earlier we used frame now we used image because we want to see the image that has the different landmarks drawn.\n",
    "        \n",
    "        if cv2.waitKey(10) & 0xFF == ord('q'): #This function waits for a key event to occur. The argument 10 specifies the time in milliseconds that the program should wait for a key event. If a key is pressed within this time, the function returns the ASCII value of the key; otherwise, it returns -1..This is a bitwise AND operation with 0xFF (hexadecimal representation of 255). It is often used to extract the last 8 bits (one byte) of the result. ord function converts the key pressed into ASCII value\n",
    "            break\n",
    "    \n",
    "cap.release()\n",
    "cv2.destroyAllWindows()"
   ]
  },
  {
   "cell_type": "code",
   "execution_count": 22,
   "id": "69e8ca2c",
   "metadata": {},
   "outputs": [
    {
     "data": {
      "text/plain": [
       "33"
      ]
     },
     "execution_count": 22,
     "metadata": {},
     "output_type": "execute_result"
    }
   ],
   "source": [
    "len(landmarks)"
   ]
  },
  {
   "cell_type": "code",
   "execution_count": 23,
   "id": "59b39f0c",
   "metadata": {},
   "outputs": [
    {
     "name": "stdout",
     "output_type": "stream",
     "text": [
      "0\n",
      "1\n",
      "2\n",
      "3\n",
      "4\n",
      "5\n",
      "6\n",
      "7\n",
      "8\n",
      "9\n",
      "10\n",
      "11\n",
      "12\n",
      "13\n",
      "14\n",
      "15\n",
      "16\n",
      "17\n",
      "18\n",
      "19\n",
      "20\n",
      "21\n",
      "22\n",
      "23\n",
      "24\n",
      "25\n",
      "26\n",
      "27\n",
      "28\n",
      "29\n",
      "30\n",
      "31\n",
      "32\n"
     ]
    }
   ],
   "source": [
    "for lndmark in mp_pose.PoseLandmark:\n",
    "    print(lndmark)"
   ]
  },
  {
   "cell_type": "code",
   "execution_count": 24,
   "id": "e2290e52",
   "metadata": {},
   "outputs": [
    {
     "data": {
      "text/plain": [
       "x: 0.9223572\n",
       "y: 0.12333448\n",
       "z: -0.4251153\n",
       "visibility: 0.9952665"
      ]
     },
     "execution_count": 24,
     "metadata": {},
     "output_type": "execute_result"
    }
   ],
   "source": [
    "#getting the corrdinates for left-shoulder landmark\n",
    "landmarks[mp_pose.PoseLandmark.LEFT_SHOULDER.value]"
   ]
  },
  {
   "cell_type": "code",
   "execution_count": 25,
   "id": "a8a29e39",
   "metadata": {},
   "outputs": [
    {
     "data": {
      "text/plain": [
       "11"
      ]
     },
     "execution_count": 25,
     "metadata": {},
     "output_type": "execute_result"
    }
   ],
   "source": [
    "#getting the value of the landmark for left-shoulder\n",
    "mp_pose.PoseLandmark.LEFT_SHOULDER.value\n"
   ]
  },
  {
   "cell_type": "markdown",
   "id": "9ab14a9c",
   "metadata": {},
   "source": [
    "Calculate Angles"
   ]
  },
  {
   "cell_type": "code",
   "execution_count": 12,
   "id": "1bed2ede",
   "metadata": {},
   "outputs": [],
   "source": [
    "def calculate_angle(a,b,c):\n",
    "    a = np.array(a) #First\n",
    "    b = np.array(b) #Mid\n",
    "    c = np.array(c) #Third\n",
    "    \n",
    "    radians = np.arctan2(c[1]-b[1], c[0]-b[0]) - np.arctan2(a[1]-b[1], a[0]-b[0])\n",
    "    angle = np.abs(radians*180.0/np.pi)\n",
    "    \n",
    "    if angle > 180.0:\n",
    "        angle = 360-angle\n",
    "        \n",
    "    return angle"
   ]
  },
  {
   "cell_type": "code",
   "execution_count": 26,
   "id": "28a83a26",
   "metadata": {},
   "outputs": [],
   "source": [
    "shoulder = [landmarks[mp_pose.PoseLandmark.LEFT_SHOULDER.value].x,landmarks[mp_pose.PoseLandmark.LEFT_SHOULDER.value].y]\n",
    "elbow = [landmarks[mp_pose.PoseLandmark.LEFT_ELBOW.value].x, landmarks[mp_pose.PoseLandmark.LEFT_ELBOW.value].y]\n",
    "wrist = [landmarks[mp_pose.PoseLandmark.LEFT_WRIST.value].x, landmarks[mp_pose.PoseLandmark.LEFT_WRIST.value].y]"
   ]
  },
  {
   "cell_type": "code",
   "execution_count": 27,
   "id": "f8bf36af",
   "metadata": {},
   "outputs": [
    {
     "data": {
      "text/plain": [
       "(650.5781555175781, 270.73230743408203)"
      ]
     },
     "execution_count": 27,
     "metadata": {},
     "output_type": "execute_result"
    }
   ],
   "source": [
    "tuple(np.multiply(elbow, [640,480])) #these are normalized coordinates and and arent actually to the shape of the image. Which is why we do a bit of math later to convert them into real shaped coordinates. We use convert it into tuple because that is how cv2 needs it"
   ]
  },
  {
   "cell_type": "code",
   "execution_count": 28,
   "id": "66ef82bc",
   "metadata": {},
   "outputs": [
    {
     "data": {
      "text/plain": [
       "165.6625833195294"
      ]
     },
     "execution_count": 28,
     "metadata": {},
     "output_type": "execute_result"
    }
   ],
   "source": [
    "calculate_angle(shoulder, elbow, wrist)"
   ]
  },
  {
   "cell_type": "code",
   "execution_count": null,
   "id": "552e7b9e",
   "metadata": {},
   "outputs": [],
   "source": [
    "cap = cv2.VideoCapture(0)\n",
    "#start mediapipe instance\n",
    "with mp_pose.Pose(min_detection_confidence=0.5, min_tracking_confidence=0.5) as pose: #mp_pose.Pose is the model from MediaPipe\n",
    "    while cap.isOpened():\n",
    "        ret, frame = cap.read() #returns two value one is the return boolean value, tells if its has read a frame or not and the other is the frame itself, its the numpy array of the image being captured\n",
    "        \n",
    "        #Recolor image to RGB\n",
    "        image = cv2.cvtColor(frame, cv2.COLOR_BGR2RGB)\n",
    "        image.flags.writeable = False #the numpy array of the image is read-only and it cannot be modfied or edited\n",
    "        \n",
    "        #make detection\n",
    "        results = pose.process(image) #using the pose model to process and get the detections back and storing those detection in the variable named results.\n",
    "        \n",
    "        #Recoloring the back to BGR\n",
    "        image.flags.writeable = True #the numpy array of the image is read and write only and thus it can be modified or edited\n",
    "        image = cv2.cvtColor(image, cv2.COLOR_RGB2BGR)\n",
    "        \n",
    "        \n",
    "        #extract landmarks\n",
    "        try:\n",
    "            landmarks = results.pose_landmarks.landmark\n",
    "            \n",
    "            \n",
    "            shoulder = [landmarks[mp_pose.PoseLandmark.LEFT_SHOULDER.value].x, landmarks[mp_pose.PoseLandmark.LEFT_SHOULDER.value].y]\n",
    "            elbow = [landmarks[mp_pose.PoseLandmark.LEFT_ELBOW.value].x, landmarks[mp_pose.PoseLandmark.LEFT_ELBOW.value].y]\n",
    "            wrist = [landmarks[mp_pose.PoseLandmark.LEFT_WRIST.value].x, landmarks[mp_pose.PoseLandmark.LEFT_WRIST.value].y]\n",
    "            \n",
    "            #calculate angle\n",
    "            angle = calculate_angle(hip,shoulder,elbow)\n",
    "            \n",
    "            #visualize angle\n",
    "            cv2.putText(image, str(angle),\n",
    "                        #determining where are position might be\n",
    "                        #here we are multiplying the coordinates of the elbow with the dimension of the webcam\n",
    "                        tuple(np.multiply(elbow, [1280, 720]).astype(int)),\n",
    "                        cv2.FONT_HERSHEY_SIMPLEX, 0.5, (255, 255, 255), 2, cv2.LINE_AA #first represents the name of the font, then size of the font, color of the font, line width and then the type of the line.\n",
    "                             )\n",
    "        except:\n",
    "            pass\n",
    "        \n",
    "        #rendering detections\n",
    "        mp_drawing.draw_landmarks(image, results.pose_landmarks, mp_pose.POSE_CONNECTIONS,\n",
    "                                 mp_drawing.DrawingSpec(color = (245,117,66),thickness=2, circle_radius=2),\n",
    "                                 mp_drawing.DrawingSpec(color = (245,117,230),thickness=2, circle_radius=2))\n",
    "        \n",
    "        cv2.imshow('Mediapipe Feed',image) #earlier we used frame now we used image because we want to see the image that has the different landmarks drawn.\n",
    "        \n",
    "        if cv2.waitKey(10) & 0xFF == ord('q'): #This function waits for a key event to occur. The argument 10 specifies the time in milliseconds that the program should wait for a key event. If a key is pressed within this time, the function returns the ASCII value of the key; otherwise, it returns -1..This is a bitwise AND operation with 0xFF (hexadecimal representation of 255). It is often used to extract the last 8 bits (one byte) of the result. ord function converts the key pressed into ASCII value\n",
    "            break\n",
    "    \n",
    "    cap.release()\n",
    "    cv2.destroyAllWindows()"
   ]
  },
  {
   "cell_type": "markdown",
   "id": "2e757853",
   "metadata": {},
   "source": [
    "CURL COWNTER"
   ]
  },
  {
   "cell_type": "code",
   "execution_count": 16,
   "id": "a6c2544d",
   "metadata": {},
   "outputs": [
    {
     "name": "stdout",
     "output_type": "stream",
     "text": [
      "1\n",
      "2\n",
      "3\n",
      "4\n",
      "5\n",
      "6\n",
      "7\n",
      "8\n",
      "9\n",
      "10\n",
      "11\n",
      "12\n",
      "13\n",
      "14\n",
      "15\n",
      "16\n"
     ]
    }
   ],
   "source": [
    "cap = cv2.VideoCapture(0)\n",
    "#curl counter variables\n",
    "counter = 0\n",
    "stage = None #tells which stage are we either down or up\n",
    "\n",
    "#start mediapipe instance\n",
    "with mp_pose.Pose(min_detection_confidence=0.5, min_tracking_confidence=0.5) as pose: #mp_pose.Pose is the model from MediaPipe\n",
    "    while cap.isOpened():\n",
    "        ret, frame = cap.read() #returns two value one is the return boolean value, tells if its has read a frame or not and the other is the frame itself, its the numpy array of the image being captured\n",
    "        \n",
    "        #Recolor image to RGB\n",
    "        image = cv2.cvtColor(frame, cv2.COLOR_BGR2RGB)\n",
    "        image.flags.writeable = False #the numpy array of the image is read-only and it cannot be modfied or edited\n",
    "        \n",
    "        #make detection\n",
    "        results = pose.process(image) #using the pose model to process and get the detections back and storing those detection in the variable named results.\n",
    "        \n",
    "        #Recoloring the back to BGR\n",
    "        image.flags.writeable = True #the numpy array of the image is read and write only and thus it can be modified or edited\n",
    "        image = cv2.cvtColor(image, cv2.COLOR_RGB2BGR)\n",
    "        \n",
    "        \n",
    "        #extract landmarks\n",
    "        try:\n",
    "            landmarks = results.pose_landmarks.landmark\n",
    "            \n",
    "            \n",
    "            shoulder = [landmarks[mp_pose.PoseLandmark.LEFT_SHOULDER.value].x, landmarks[mp_pose.PoseLandmark.LEFT_SHOULDER.value].y]\n",
    "            elbow = [landmarks[mp_pose.PoseLandmark.LEFT_ELBOW.value].x, landmarks[mp_pose.PoseLandmark.LEFT_ELBOW.value].y]\n",
    "            wrist = [landmarks[mp_pose.PoseLandmark.LEFT_WRIST.value].x, landmarks[mp_pose.PoseLandmark.LEFT_WRIST.value].y]\n",
    "            \n",
    "            #calculate angle\n",
    "            angle = calculate_angle(shoulder,elbow,wrist)\n",
    "            \n",
    "            #visualize angle\n",
    "            cv2.putText(image, str(angle),\n",
    "                        #determining where are position might be\n",
    "                        #here we are multiplying the coordinates of the elbow with the dimension of the webcam\n",
    "                        tuple(np.multiply(elbow, [800, 600]).astype(int)),\n",
    "                        cv2.FONT_HERSHEY_SIMPLEX, 0.5, (255, 255, 255), 2, cv2.LINE_AA #first represents the name of the font, then size of the font, color of the font, line width and then the type of the line.\n",
    "                             )\n",
    "            \n",
    "            #curl counter logic\n",
    "            if angle > 160:\n",
    "                stage = \"down\"\n",
    "            if angle < 30 and stage == \"down\":\n",
    "                stage = \"up\"\n",
    "                counter+=1\n",
    "                print(counter)\n",
    "        except:\n",
    "            pass\n",
    "        \n",
    "        #render curl counter\n",
    "        #setup status box\n",
    "        cv2.rectangle(image,(0,0),(355,73),(245,117,16),-1)\n",
    "        \n",
    "        #rep data\n",
    "        cv2.putText(image, 'REPS', (15,12),cv2.FONT_HERSHEY_SIMPLEX, 0.5, (0,0,0),1,cv2.LINE_AA)\n",
    "        cv2.putText(image, str(counter), (1,60), cv2.FONT_HERSHEY_SIMPLEX, 2, (255,255,255), 2, cv2.LINE_AA)\n",
    "        \n",
    "        #Stage data\n",
    "        cv2.putText(image, 'STAGE', (65,12),cv2.FONT_HERSHEY_SIMPLEX, 0.5, (0,0,0,), 1, cv2.LINE_AA)\n",
    "        cv2.putText(image, stage, (77,60), cv2.FONT_HERSHEY_SIMPLEX, 2, (255,255,255),2,cv2.LINE_AA)\n",
    "        #rendering detections\n",
    "        mp_drawing.draw_landmarks(image, results.pose_landmarks, mp_pose.POSE_CONNECTIONS,\n",
    "                                 mp_drawing.DrawingSpec(color = (245,117,66),thickness=2, circle_radius=2),\n",
    "                                 mp_drawing.DrawingSpec(color = (245,117,230),thickness=2, circle_radius=2))\n",
    "        \n",
    "        cv2.imshow('Mediapipe Feed',image) #earlier we used frame now we used image because we want to see the image that has the different landmarks drawn.\n",
    "        \n",
    "        if cv2.waitKey(10) & 0xFF == ord('q'): #This function waits for a key event to occur. The argument 10 specifies the time in milliseconds that the program should wait for a key event. If a key is pressed within this time, the function returns the ASCII value of the key; otherwise, it returns -1..This is a bitwise AND operation with 0xFF (hexadecimal representation of 255). It is often used to extract the last 8 bits (one byte) of the result. ord function converts the key pressed into ASCII value\n",
    "            break\n",
    "    \n",
    "    cap.release()\n",
    "    cv2.destroyAllWindows()"
   ]
  },
  {
   "cell_type": "code",
   "execution_count": null,
   "id": "595319c0",
   "metadata": {},
   "outputs": [],
   "source": []
  }
 ],
 "metadata": {
  "kernelspec": {
   "display_name": "Python 3 (ipykernel)",
   "language": "python",
   "name": "python3"
  },
  "language_info": {
   "codemirror_mode": {
    "name": "ipython",
    "version": 3
   },
   "file_extension": ".py",
   "mimetype": "text/x-python",
   "name": "python",
   "nbconvert_exporter": "python",
   "pygments_lexer": "ipython3",
   "version": "3.11.5"
  }
 },
 "nbformat": 4,
 "nbformat_minor": 5
}
