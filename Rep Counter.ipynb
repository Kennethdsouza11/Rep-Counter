{
 "cells": [
  {
   "cell_type": "code",
   "execution_count": 10,
   "id": "8ea898d5",
   "metadata": {},
   "outputs": [
    {
     "name": "stdout",
     "output_type": "stream",
     "text": [
      "Requirement already satisfied: mediapipe in c:\\anaconda\\lib\\site-packages (0.10.9)\n",
      "Requirement already satisfied: opencv-python in c:\\anaconda\\lib\\site-packages (4.9.0.80)\n",
      "Requirement already satisfied: absl-py in c:\\users\\kenneth\\appdata\\roaming\\python\\python311\\site-packages (from mediapipe) (2.0.0)\n",
      "Requirement already satisfied: attrs>=19.1.0 in c:\\anaconda\\lib\\site-packages (from mediapipe) (22.1.0)\n",
      "Requirement already satisfied: flatbuffers>=2.0 in c:\\users\\kenneth\\appdata\\roaming\\python\\python311\\site-packages (from mediapipe) (23.5.26)\n",
      "Requirement already satisfied: matplotlib in c:\\users\\kenneth\\appdata\\roaming\\python\\python311\\site-packages (from mediapipe) (3.8.2)\n",
      "Requirement already satisfied: numpy in c:\\users\\kenneth\\appdata\\roaming\\python\\python311\\site-packages (from mediapipe) (1.26.2)\n",
      "Requirement already satisfied: opencv-contrib-python in c:\\anaconda\\lib\\site-packages (from mediapipe) (4.9.0.80)\n",
      "Requirement already satisfied: protobuf<4,>=3.11 in c:\\anaconda\\lib\\site-packages (from mediapipe) (3.20.3)\n",
      "Requirement already satisfied: sounddevice>=0.4.4 in c:\\anaconda\\lib\\site-packages (from mediapipe) (0.4.6)\n",
      "Requirement already satisfied: CFFI>=1.0 in c:\\anaconda\\lib\\site-packages (from sounddevice>=0.4.4->mediapipe) (1.15.1)\n",
      "Requirement already satisfied: contourpy>=1.0.1 in c:\\users\\kenneth\\appdata\\roaming\\python\\python311\\site-packages (from matplotlib->mediapipe) (1.2.0)\n",
      "Requirement already satisfied: cycler>=0.10 in c:\\users\\kenneth\\appdata\\roaming\\python\\python311\\site-packages (from matplotlib->mediapipe) (0.12.1)\n",
      "Requirement already satisfied: fonttools>=4.22.0 in c:\\users\\kenneth\\appdata\\roaming\\python\\python311\\site-packages (from matplotlib->mediapipe) (4.47.0)\n",
      "Requirement already satisfied: kiwisolver>=1.3.1 in c:\\users\\kenneth\\appdata\\roaming\\python\\python311\\site-packages (from matplotlib->mediapipe) (1.4.5)\n",
      "Requirement already satisfied: packaging>=20.0 in c:\\users\\kenneth\\appdata\\roaming\\python\\python311\\site-packages (from matplotlib->mediapipe) (23.2)\n",
      "Requirement already satisfied: pillow>=8 in c:\\users\\kenneth\\appdata\\roaming\\python\\python311\\site-packages (from matplotlib->mediapipe) (10.1.0)\n",
      "Requirement already satisfied: pyparsing>=2.3.1 in c:\\users\\kenneth\\appdata\\roaming\\python\\python311\\site-packages (from matplotlib->mediapipe) (3.1.1)\n",
      "Requirement already satisfied: python-dateutil>=2.7 in c:\\users\\kenneth\\appdata\\roaming\\python\\python311\\site-packages (from matplotlib->mediapipe) (2.8.2)\n",
      "Requirement already satisfied: pycparser in c:\\anaconda\\lib\\site-packages (from CFFI>=1.0->sounddevice>=0.4.4->mediapipe) (2.21)\n",
      "Requirement already satisfied: six>=1.5 in c:\\users\\kenneth\\appdata\\roaming\\python\\python311\\site-packages (from python-dateutil>=2.7->matplotlib->mediapipe) (1.16.0)\n"
     ]
    }
   ],
   "source": [
    "#installing mediapipe and opencv\n",
    "!pip install mediapipe opencv-python"
   ]
  },
  {
   "cell_type": "code",
   "execution_count": 11,
   "id": "375fde86",
   "metadata": {},
   "outputs": [],
   "source": [
    "import cv2\n",
    "import mediapipe as mp\n",
    "import numpy as np\n",
    "mp_drawing = mp.solutions.drawing_utils #used to draw bounding box or landmarks or other visual annotations on the input images\n",
    "mp_pose = mp.solutions.pose #importing the pose estimation model from mediapipe"
   ]
  },
  {
   "cell_type": "code",
   "execution_count": 4,
   "id": "fca0625c",
   "metadata": {},
   "outputs": [],
   "source": [
    "#Video Feed\n",
    "cap = cv2.VideoCapture(0)\n",
    "while cap.isOpened():\n",
    "    ret, frame = cap.read() #returns two value one is the return boolean value, tells if its has read a frame or not and the other is the frame itself, its the numpy array of the image being captured\n",
    "    cv2.imshow('Mediapipe Feed',frame) #shows the pop up window with the live feed\n",
    "    \n",
    "    if cv2.waitKey(10) & 0xFF == ord('q'): #This function waits for a key event to occur. The argument 10 specifies the time in milliseconds that the program should wait for a key event. If a key is pressed within this time, the function returns the ASCII value of the key; otherwise, it returns -1..This is a bitwise AND operation with 0xFF (hexadecimal representation of 255). It is often used to extract the last 8 bits (one byte) of the result. ord function converts the key pressed into ASCII value\n",
    "        break\n",
    "cap.release()\n",
    "cv2.destroyAllWindows()"
   ]
  },
  {
   "cell_type": "markdown",
   "id": "1bf37b86",
   "metadata": {},
   "source": [
    "Make Detection"
   ]
  },
  {
   "cell_type": "code",
   "execution_count": 1,
   "id": "9c15b8a6",
   "metadata": {},
   "outputs": [
    {
     "ename": "NameError",
     "evalue": "name 'cv2' is not defined",
     "output_type": "error",
     "traceback": [
      "\u001b[1;31m---------------------------------------------------------------------------\u001b[0m",
      "\u001b[1;31mNameError\u001b[0m                                 Traceback (most recent call last)",
      "Cell \u001b[1;32mIn[1], line 1\u001b[0m\n\u001b[1;32m----> 1\u001b[0m cap \u001b[38;5;241m=\u001b[39m cv2\u001b[38;5;241m.\u001b[39mVideoCapture(\u001b[38;5;241m0\u001b[39m)\n\u001b[0;32m      2\u001b[0m \u001b[38;5;66;03m#start mediapipe instance\u001b[39;00m\n\u001b[0;32m      3\u001b[0m \u001b[38;5;28;01mwith\u001b[39;00m mp_pose\u001b[38;5;241m.\u001b[39mPose(min_detection_confidence\u001b[38;5;241m=\u001b[39m\u001b[38;5;241m0.5\u001b[39m, min_tracking_confidence\u001b[38;5;241m=\u001b[39m\u001b[38;5;241m0.5\u001b[39m) \u001b[38;5;28;01mas\u001b[39;00m pose: \u001b[38;5;66;03m#mp_pose.Pose is the model from MediaPipe\u001b[39;00m\n",
      "\u001b[1;31mNameError\u001b[0m: name 'cv2' is not defined"
     ]
    }
   ],
   "source": [
    "cap = cv2.VideoCapture(0)\n",
    "#start mediapipe instance\n",
    "with mp_pose.Pose(min_detection_confidence=0.5, min_tracking_confidence=0.5) as pose: #mp_pose.Pose is the model from MediaPipe\n",
    "    while cap.isOpened():\n",
    "        ret, frame = cap.read() #returns two value one is the return boolean value, tells if its has read a frame or not and the other is the frame itself, its the numpy array of the image being captured\n",
    "        \n",
    "        #Recolor image to RGB\n",
    "        image = cv2.cvtColor(frame, cv2.COLOR_BGR2RGB)\n",
    "        image.flags.writeable = False #the numpy array of the image is read-only and it cannot be modfied or edited\n",
    "        \n",
    "        #make detection\n",
    "        results = pose.process(image) #using the pose model to process and get the detections back and storing those detection in the variable named results.\n",
    "        \n",
    "        #Recoloring the back to BGR\n",
    "        image.flags.writeable = True #the numpy array of the image is read and write only and thus it can be modified or edited\n",
    "        image = cv2.cvtColor(image, cv2.COLOR_RGB2BGR)\n",
    "        \n",
    "        #rendering detections\n",
    "        mp_drawing.draw_landmarks(image, results.pose_landmarks, mp_pose.POSE_CONNECTIONS,\n",
    "                                 mp_drawing.DrawingSpec(color = (245,117,66),thickness=2, circle_radius=2),\n",
    "                                 mp_drawing.DrawingSpec(color = (245,117,230),thickness=2, circle_radius=2))\n",
    "        \n",
    "        cv2.imshow('Mediapipe Feed',image) #earlier we used frame now we used image because we want to see the image that has the different landmarks drawn.\n",
    "        \n",
    "        if cv2.waitKey(10) & 0xFF == ord('q'): #This function waits for a key event to occur. The argument 10 specifies the time in milliseconds that the program should wait for a key event. If a key is pressed within this time, the function returns the ASCII value of the key; otherwise, it returns -1..This is a bitwise AND operation with 0xFF (hexadecimal representation of 255). It is often used to extract the last 8 bits (one byte) of the result. ord function converts the key pressed into ASCII value\n",
    "            break\n",
    "    \n",
    "cap.release()\n",
    "cv2.destroyAllWindows()"
   ]
  },
  {
   "cell_type": "code",
   "execution_count": null,
   "id": "1fe0ce17",
   "metadata": {},
   "outputs": [],
   "source": [
    "print(results.pose_landmarks)\n"
   ]
  },
  {
   "cell_type": "code",
   "execution_count": null,
   "id": "ef8772d7",
   "metadata": {},
   "outputs": [],
   "source": [
    "print(mp_pose.POSE_CONNECTIONS)"
   ]
  },
  {
   "cell_type": "code",
   "execution_count": null,
   "id": "fcde6f13",
   "metadata": {},
   "outputs": [],
   "source": [
    "mp_drawing.draw_landmarks??"
   ]
  },
  {
   "cell_type": "code",
   "execution_count": null,
   "id": "312c3625",
   "metadata": {},
   "outputs": [],
   "source": [
    "mp_drawing.DrawingSpec??"
   ]
  },
  {
   "cell_type": "code",
   "execution_count": null,
   "id": "6fb2b2a0",
   "metadata": {},
   "outputs": [],
   "source": [
    "cap = cv2.VideoCapture(0)\n",
    "#start mediapipe instance\n",
    "with mp_pose.Pose(min_detection_confidence=0.5, min_tracking_confidence=0.5) as pose: #mp_pose.Pose is the model from MediaPipe\n",
    "    while cap.isOpened():\n",
    "        ret, frame = cap.read() #returns two value one is the return boolean value, tells if its has read a frame or not and the other is the frame itself, its the numpy array of the image being captured\n",
    "        \n",
    "        #Recolor image to RGB\n",
    "        image = cv2.cvtColor(frame, cv2.COLOR_BGR2RGB)\n",
    "        image.flags.writeable = False #the numpy array of the image is read-only and it cannot be modfied or edited\n",
    "        \n",
    "        #make detection\n",
    "        results = pose.process(image) #using the pose model to process and get the detections back and storing those detection in the variable named results.\n",
    "        \n",
    "        #Recoloring the back to BGR\n",
    "        image.flags.writeable = True #the numpy array of the image is read and write only and thus it can be modified or edited\n",
    "        image = cv2.cvtColor(image, cv2.COLOR_RGB2BGR)\n",
    "        \n",
    "        #extract landmarks\n",
    "        try:\n",
    "            landmarks = results.pose_landmarks.landmark\n",
    "            print(landmarks)\n",
    "        except:\n",
    "            pass\n",
    "        \n",
    "        #rendering detections\n",
    "        mp_drawing.draw_landmarks(image, results.pose_landmarks, mp_pose.POSE_CONNECTIONS,\n",
    "                                 mp_drawing.DrawingSpec(color = (245,117,66),thickness=2, circle_radius=2),\n",
    "                                 mp_drawing.DrawingSpec(color = (245,117,230),thickness=2, circle_radius=2))\n",
    "        \n",
    "        cv2.imshow('Mediapipe Feed',image) #earlier we used frame now we used image because we want to see the image that has the different landmarks drawn.\n",
    "        \n",
    "        if cv2.waitKey(10) & 0xFF == ord('q'): #This function waits for a key event to occur. The argument 10 specifies the time in milliseconds that the program should wait for a key event. If a key is pressed within this time, the function returns the ASCII value of the key; otherwise, it returns -1..This is a bitwise AND operation with 0xFF (hexadecimal representation of 255). It is often used to extract the last 8 bits (one byte) of the result. ord function converts the key pressed into ASCII value\n",
    "            break\n",
    "    \n",
    "cap.release()\n",
    "cv2.destroyAllWindows()"
   ]
  },
  {
   "cell_type": "code",
   "execution_count": null,
   "id": "69e8ca2c",
   "metadata": {},
   "outputs": [],
   "source": [
    "len(landmarks)"
   ]
  },
  {
   "cell_type": "code",
   "execution_count": null,
   "id": "59b39f0c",
   "metadata": {},
   "outputs": [],
   "source": [
    "for lndmark in mp_pose.PoseLandmark:\n",
    "    print(lndmark)"
   ]
  },
  {
   "cell_type": "code",
   "execution_count": null,
   "id": "e2290e52",
   "metadata": {},
   "outputs": [],
   "source": [
    "#getting the corrdinates for left-shoulder landmark\n",
    "landmarks[mp_pose.PoseLandmark.LEFT_SHOULDER.value]"
   ]
  },
  {
   "cell_type": "code",
   "execution_count": null,
   "id": "a8a29e39",
   "metadata": {},
   "outputs": [],
   "source": [
    "#getting the value of the landmark for left-shoulder\n",
    "mp_pose.PoseLandmark.LEFT_SHOULDER.value\n"
   ]
  },
  {
   "cell_type": "markdown",
   "id": "9ab14a9c",
   "metadata": {},
   "source": [
    "Calculate Angles"
   ]
  },
  {
   "cell_type": "code",
   "execution_count": 12,
   "id": "1bed2ede",
   "metadata": {},
   "outputs": [],
   "source": [
    "def calculate_angle(a,b,c):\n",
    "    a = np.array(a) #First\n",
    "    b = np.array(b) #Mid\n",
    "    c = np.array(c) #Third\n",
    "    \n",
    "    radians = np.arctan2(c[1]-b[1], c[0]-b[0]) - np.arctan2(a[1]-b[1], a[0]-b[0])\n",
    "    angle = np.abs(radians*180.0/np.pi)\n",
    "    \n",
    "    if angle > 180.0:\n",
    "        angle = 360-angle\n",
    "        \n",
    "    return angle"
   ]
  },
  {
   "cell_type": "code",
   "execution_count": null,
   "id": "28a83a26",
   "metadata": {},
   "outputs": [],
   "source": [
    "shoulder = [landmarks[mp_pose.PoseLandmark.LEFT_SHOULDER.value].x,landmarks[mp_pose.PoseLandmark.LEFT_SHOULDER.value].y]\n",
    "elbow = [landmarks[mp_pose.PoseLandmark.LEFT_ELBOW.value].x, landmarks[mp_pose.PoseLandmark.LEFT_ELBOW.value].y]\n",
    "wrist = [landmarks[mp_pose.PoseLandmark.LEFT_WRIST.value].x, landmarks[mp_pose.PoseLandmark.LEFT_WRIST.value].y]"
   ]
  },
  {
   "cell_type": "code",
   "execution_count": null,
   "id": "6cb8ce19",
   "metadata": {},
   "outputs": [],
   "source": [
    "tuple(np.multiply(elbow, [640,480])) #these are normalized coordinates and and arent actually to the shape of the image. Which is why we do a bit of math later to convert them into real shaped coordinates. We use convert it into tuple because that is how cv2 needs it"
   ]
  },
  {
   "cell_type": "code",
   "execution_count": null,
   "id": "66ef82bc",
   "metadata": {},
   "outputs": [],
   "source": [
    "calculate_angle(shoulder, elbow, wrist)"
   ]
  },
  {
   "cell_type": "code",
   "execution_count": null,
   "id": "552e7b9e",
   "metadata": {},
   "outputs": [],
   "source": [
    "cap = cv2.VideoCapture(0)\n",
    "#start mediapipe instance\n",
    "with mp_pose.Pose(min_detection_confidence=0.5, min_tracking_confidence=0.5) as pose: #mp_pose.Pose is the model from MediaPipe\n",
    "    while cap.isOpened():\n",
    "        ret, frame = cap.read() #returns two value one is the return boolean value, tells if its has read a frame or not and the other is the frame itself, its the numpy array of the image being captured\n",
    "        \n",
    "        #Recolor image to RGB\n",
    "        image = cv2.cvtColor(frame, cv2.COLOR_BGR2RGB)\n",
    "        image.flags.writeable = False #the numpy array of the image is read-only and it cannot be modfied or edited\n",
    "        \n",
    "        #make detection\n",
    "        results = pose.process(image) #using the pose model to process and get the detections back and storing those detection in the variable named results.\n",
    "        \n",
    "        #Recoloring the back to BGR\n",
    "        image.flags.writeable = True #the numpy array of the image is read and write only and thus it can be modified or edited\n",
    "        image = cv2.cvtColor(image, cv2.COLOR_RGB2BGR)\n",
    "        \n",
    "        \n",
    "        #extract landmarks\n",
    "        try:\n",
    "            landmarks = results.pose_landmarks.landmark\n",
    "            \n",
    "            \n",
    "            shoulder = [landmarks[mp_pose.PoseLandmark.LEFT_SHOULDER.value].x, landmarks[mp_pose.PoseLandmark.LEFT_SHOULDER.value].y]\n",
    "            elbow = [landmarks[mp_pose.PoseLandmark.LEFT_ELBOW.value].x, landmarks[mp_pose.PoseLandmark.LEFT_ELBOW.value].y]\n",
    "            wrist = [landmarks[mp_pose.PoseLandmark.LEFT_WRIST.value].x, landmarks[mp_pose.PoseLandmark.LEFT_WRIST.value].y]\n",
    "            \n",
    "            #calculate angle\n",
    "            angle = calculate_angle(hip,shoulder,elbow)\n",
    "            \n",
    "            #visualize angle\n",
    "            cv2.putText(image, str(angle),\n",
    "                        #determining where are position might be\n",
    "                        #here we are multiplying the coordinates of the elbow with the dimension of the webcam\n",
    "                        tuple(np.multiply(elbow, [1280, 720]).astype(int)),\n",
    "                        cv2.FONT_HERSHEY_SIMPLEX, 0.5, (255, 255, 255), 2, cv2.LINE_AA #first represents the name of the font, then size of the font, color of the font, line width and then the type of the line.\n",
    "                             )\n",
    "        except:\n",
    "            pass\n",
    "        \n",
    "        #rendering detections\n",
    "        mp_drawing.draw_landmarks(image, results.pose_landmarks, mp_pose.POSE_CONNECTIONS,\n",
    "                                 mp_drawing.DrawingSpec(color = (245,117,66),thickness=2, circle_radius=2),\n",
    "                                 mp_drawing.DrawingSpec(color = (245,117,230),thickness=2, circle_radius=2))\n",
    "        \n",
    "        cv2.imshow('Mediapipe Feed',image) #earlier we used frame now we used image because we want to see the image that has the different landmarks drawn.\n",
    "        \n",
    "        if cv2.waitKey(10) & 0xFF == ord('q'): #This function waits for a key event to occur. The argument 10 specifies the time in milliseconds that the program should wait for a key event. If a key is pressed within this time, the function returns the ASCII value of the key; otherwise, it returns -1..This is a bitwise AND operation with 0xFF (hexadecimal representation of 255). It is often used to extract the last 8 bits (one byte) of the result. ord function converts the key pressed into ASCII value\n",
    "            break\n",
    "    \n",
    "    cap.release()\n",
    "    cv2.destroyAllWindows()"
   ]
  },
  {
   "cell_type": "markdown",
   "id": "b283ea6b",
   "metadata": {},
   "source": [
    "CURL COWNTER"
   ]
  },
  {
   "cell_type": "code",
   "execution_count": 16,
   "id": "ecb6da31",
   "metadata": {},
   "outputs": [
    {
     "name": "stdout",
     "output_type": "stream",
     "text": [
      "1\n",
      "2\n",
      "3\n",
      "4\n",
      "5\n",
      "6\n",
      "7\n",
      "8\n",
      "9\n",
      "10\n",
      "11\n",
      "12\n",
      "13\n",
      "14\n",
      "15\n",
      "16\n"
     ]
    }
   ],
   "source": [
    "cap = cv2.VideoCapture(0)\n",
    "#curl counter variables\n",
    "counter = 0\n",
    "stage = None #tells which stage are we either down or up\n",
    "\n",
    "#start mediapipe instance\n",
    "with mp_pose.Pose(min_detection_confidence=0.5, min_tracking_confidence=0.5) as pose: #mp_pose.Pose is the model from MediaPipe\n",
    "    while cap.isOpened():\n",
    "        ret, frame = cap.read() #returns two value one is the return boolean value, tells if its has read a frame or not and the other is the frame itself, its the numpy array of the image being captured\n",
    "        \n",
    "        #Recolor image to RGB\n",
    "        image = cv2.cvtColor(frame, cv2.COLOR_BGR2RGB)\n",
    "        image.flags.writeable = False #the numpy array of the image is read-only and it cannot be modfied or edited\n",
    "        \n",
    "        #make detection\n",
    "        results = pose.process(image) #using the pose model to process and get the detections back and storing those detection in the variable named results.\n",
    "        \n",
    "        #Recoloring the back to BGR\n",
    "        image.flags.writeable = True #the numpy array of the image is read and write only and thus it can be modified or edited\n",
    "        image = cv2.cvtColor(image, cv2.COLOR_RGB2BGR)\n",
    "        \n",
    "        \n",
    "        #extract landmarks\n",
    "        try:\n",
    "            landmarks = results.pose_landmarks.landmark\n",
    "            \n",
    "            \n",
    "            shoulder = [landmarks[mp_pose.PoseLandmark.LEFT_SHOULDER.value].x, landmarks[mp_pose.PoseLandmark.LEFT_SHOULDER.value].y]\n",
    "            elbow = [landmarks[mp_pose.PoseLandmark.LEFT_ELBOW.value].x, landmarks[mp_pose.PoseLandmark.LEFT_ELBOW.value].y]\n",
    "            wrist = [landmarks[mp_pose.PoseLandmark.LEFT_WRIST.value].x, landmarks[mp_pose.PoseLandmark.LEFT_WRIST.value].y]\n",
    "            \n",
    "            #calculate angle\n",
    "            angle = calculate_angle(shoulder,elbow,wrist)\n",
    "            \n",
    "            #visualize angle\n",
    "            cv2.putText(image, str(angle),\n",
    "                        #determining where are position might be\n",
    "                        #here we are multiplying the coordinates of the elbow with the dimension of the webcam\n",
    "                        tuple(np.multiply(elbow, [800, 600]).astype(int)),\n",
    "                        cv2.FONT_HERSHEY_SIMPLEX, 0.5, (255, 255, 255), 2, cv2.LINE_AA #first represents the name of the font, then size of the font, color of the font, line width and then the type of the line.\n",
    "                             )\n",
    "            \n",
    "            #curl counter logic\n",
    "            if angle > 160:\n",
    "                stage = \"down\"\n",
    "            if angle < 30 and stage == \"down\":\n",
    "                stage = \"up\"\n",
    "                counter+=1\n",
    "                print(counter)\n",
    "        except:\n",
    "            pass\n",
    "        \n",
    "        #render curl counter\n",
    "        #setup status box\n",
    "        cv2.rectangle(image,(0,0),(355,73),(245,117,16),-1)\n",
    "        \n",
    "        #rep data\n",
    "        cv2.putText(image, 'REPS', (15,12),cv2.FONT_HERSHEY_SIMPLEX, 0.5, (0,0,0),1,cv2.LINE_AA)\n",
    "        cv2.putText(image, str(counter), (1,60), cv2.FONT_HERSHEY_SIMPLEX, 2, (255,255,255), 2, cv2.LINE_AA)\n",
    "        \n",
    "        #Stage data\n",
    "        cv2.putText(image, 'STAGE', (65,12),cv2.FONT_HERSHEY_SIMPLEX, 0.5, (0,0,0,), 1, cv2.LINE_AA)\n",
    "        cv2.putText(image, stage, (77,60), cv2.FONT_HERSHEY_SIMPLEX, 2, (255,255,255),2,cv2.LINE_AA)\n",
    "        #rendering detections\n",
    "        mp_drawing.draw_landmarks(image, results.pose_landmarks, mp_pose.POSE_CONNECTIONS,\n",
    "                                 mp_drawing.DrawingSpec(color = (245,117,66),thickness=2, circle_radius=2),\n",
    "                                 mp_drawing.DrawingSpec(color = (245,117,230),thickness=2, circle_radius=2))\n",
    "        \n",
    "        cv2.imshow('Mediapipe Feed',image) #earlier we used frame now we used image because we want to see the image that has the different landmarks drawn.\n",
    "        \n",
    "        if cv2.waitKey(10) & 0xFF == ord('q'): #This function waits for a key event to occur. The argument 10 specifies the time in milliseconds that the program should wait for a key event. If a key is pressed within this time, the function returns the ASCII value of the key; otherwise, it returns -1..This is a bitwise AND operation with 0xFF (hexadecimal representation of 255). It is often used to extract the last 8 bits (one byte) of the result. ord function converts the key pressed into ASCII value\n",
    "            break\n",
    "    \n",
    "    cap.release()\n",
    "    cv2.destroyAllWindows()"
   ]
  },
  {
   "cell_type": "code",
   "execution_count": null,
   "id": "573e0ed8",
   "metadata": {},
   "outputs": [],
   "source": []
  }
 ],
 "metadata": {
  "kernelspec": {
   "display_name": "Python 3 (ipykernel)",
   "language": "python",
   "name": "python3"
  },
  "language_info": {
   "codemirror_mode": {
    "name": "ipython",
    "version": 3
   },
   "file_extension": ".py",
   "mimetype": "text/x-python",
   "name": "python",
   "nbconvert_exporter": "python",
   "pygments_lexer": "ipython3",
   "version": "3.11.5"
  }
 },
 "nbformat": 4,
 "nbformat_minor": 5
}
